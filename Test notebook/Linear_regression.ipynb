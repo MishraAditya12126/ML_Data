{
 "cells": [
  {
   "cell_type": "code",
   "execution_count": 1,
   "id": "3e438884",
   "metadata": {},
   "outputs": [],
   "source": [
    "import numpy as np\n",
    "import pandas as pd\n",
    "import matplotlib.pyplot as plt\n",
    "import seaborn as sns"
   ]
  },
  {
   "cell_type": "code",
   "execution_count": 18,
   "id": "746c8b6b",
   "metadata": {},
   "outputs": [
    {
     "data": {
      "text/html": [
       "<div>\n",
       "<style scoped>\n",
       "    .dataframe tbody tr th:only-of-type {\n",
       "        vertical-align: middle;\n",
       "    }\n",
       "\n",
       "    .dataframe tbody tr th {\n",
       "        vertical-align: top;\n",
       "    }\n",
       "\n",
       "    .dataframe thead th {\n",
       "        text-align: right;\n",
       "    }\n",
       "</style>\n",
       "<table border=\"1\" class=\"dataframe\">\n",
       "  <thead>\n",
       "    <tr style=\"text-align: right;\">\n",
       "      <th></th>\n",
       "      <th>TV</th>\n",
       "      <th>radio</th>\n",
       "      <th>newspaper</th>\n",
       "      <th>sales</th>\n",
       "    </tr>\n",
       "  </thead>\n",
       "  <tbody>\n",
       "    <tr>\n",
       "      <th>0</th>\n",
       "      <td>230.1</td>\n",
       "      <td>37.8</td>\n",
       "      <td>69.2</td>\n",
       "      <td>22.1</td>\n",
       "    </tr>\n",
       "    <tr>\n",
       "      <th>1</th>\n",
       "      <td>44.5</td>\n",
       "      <td>39.3</td>\n",
       "      <td>45.1</td>\n",
       "      <td>10.4</td>\n",
       "    </tr>\n",
       "    <tr>\n",
       "      <th>2</th>\n",
       "      <td>17.2</td>\n",
       "      <td>45.9</td>\n",
       "      <td>69.3</td>\n",
       "      <td>9.3</td>\n",
       "    </tr>\n",
       "    <tr>\n",
       "      <th>3</th>\n",
       "      <td>151.5</td>\n",
       "      <td>41.3</td>\n",
       "      <td>58.5</td>\n",
       "      <td>18.5</td>\n",
       "    </tr>\n",
       "    <tr>\n",
       "      <th>4</th>\n",
       "      <td>180.8</td>\n",
       "      <td>10.8</td>\n",
       "      <td>58.4</td>\n",
       "      <td>12.9</td>\n",
       "    </tr>\n",
       "  </tbody>\n",
       "</table>\n",
       "</div>"
      ],
      "text/plain": [
       "      TV  radio  newspaper  sales\n",
       "0  230.1   37.8       69.2   22.1\n",
       "1   44.5   39.3       45.1   10.4\n",
       "2   17.2   45.9       69.3    9.3\n",
       "3  151.5   41.3       58.5   18.5\n",
       "4  180.8   10.8       58.4   12.9"
      ]
     },
     "execution_count": 18,
     "metadata": {},
     "output_type": "execute_result"
    }
   ],
   "source": [
    "df=pd.read_csv(r\"C:\\Users\\Mishra's PC\\Desktop\\Modular\\ML_Data\\Data\\Advertising.csv\")\n",
    "df.head()"
   ]
  },
  {
   "cell_type": "code",
   "execution_count": 6,
   "metadata": {},
   "outputs": [
    {
     "data": {
      "text/html": [
       "<div>\n",
       "<style scoped>\n",
       "    .dataframe tbody tr th:only-of-type {\n",
       "        vertical-align: middle;\n",
       "    }\n",
       "\n",
       "    .dataframe tbody tr th {\n",
       "        vertical-align: top;\n",
       "    }\n",
       "\n",
       "    .dataframe thead th {\n",
       "        text-align: right;\n",
       "    }\n",
       "</style>\n",
       "<table border=\"1\" class=\"dataframe\">\n",
       "  <thead>\n",
       "    <tr style=\"text-align: right;\">\n",
       "      <th></th>\n",
       "      <th>TV</th>\n",
       "      <th>radio</th>\n",
       "      <th>newspaper</th>\n",
       "    </tr>\n",
       "  </thead>\n",
       "  <tbody>\n",
       "    <tr>\n",
       "      <th>0</th>\n",
       "      <td>230.1</td>\n",
       "      <td>37.8</td>\n",
       "      <td>69.2</td>\n",
       "    </tr>\n",
       "    <tr>\n",
       "      <th>1</th>\n",
       "      <td>44.5</td>\n",
       "      <td>39.3</td>\n",
       "      <td>45.1</td>\n",
       "    </tr>\n",
       "    <tr>\n",
       "      <th>2</th>\n",
       "      <td>17.2</td>\n",
       "      <td>45.9</td>\n",
       "      <td>69.3</td>\n",
       "    </tr>\n",
       "    <tr>\n",
       "      <th>3</th>\n",
       "      <td>151.5</td>\n",
       "      <td>41.3</td>\n",
       "      <td>58.5</td>\n",
       "    </tr>\n",
       "    <tr>\n",
       "      <th>4</th>\n",
       "      <td>180.8</td>\n",
       "      <td>10.8</td>\n",
       "      <td>58.4</td>\n",
       "    </tr>\n",
       "  </tbody>\n",
       "</table>\n",
       "</div>"
      ],
      "text/plain": [
       "      TV  radio  newspaper\n",
       "0  230.1   37.8       69.2\n",
       "1   44.5   39.3       45.1\n",
       "2   17.2   45.9       69.3\n",
       "3  151.5   41.3       58.5\n",
       "4  180.8   10.8       58.4"
      ]
     },
     "execution_count": 6,
     "metadata": {},
     "output_type": "execute_result"
    }
   ],
   "source": [
    "x=df.drop([\"sales\"],axis=1)\n",
    "x.head()"
   ]
  },
  {
   "cell_type": "code",
   "execution_count": 9,
   "id": "426144a0",
   "metadata": {},
   "outputs": [
    {
     "data": {
      "text/plain": [
       "0    22.1\n",
       "1    10.4\n",
       "2     9.3\n",
       "3    18.5\n",
       "4    12.9\n",
       "Name: sales, dtype: float64"
      ]
     },
     "execution_count": 9,
     "metadata": {},
     "output_type": "execute_result"
    }
   ],
   "source": [
    "y=df[\"sales\"]\n",
    "y.head()"
   ]
  },
  {
   "cell_type": "code",
   "execution_count": 10,
   "id": "0bcbedaf",
   "metadata": {},
   "outputs": [],
   "source": [
    "from sklearn.model_selection import train_test_split\n",
    "X_train, X_test, y_train, y_test = train_test_split(x, y, test_size=0.33, random_state=101)"
   ]
  },
  {
   "cell_type": "code",
   "execution_count": 14,
   "id": "419bf721",
   "metadata": {},
   "outputs": [],
   "source": [
    "from sklearn.linear_model import LinearRegression\n"
   ]
  },
  {
   "cell_type": "code",
   "execution_count": 15,
   "id": "92cfd007",
   "metadata": {},
   "outputs": [],
   "source": [
    "model=LinearRegression()"
   ]
  },
  {
   "cell_type": "code",
   "execution_count": 16,
   "id": "653b912d",
   "metadata": {},
   "outputs": [
    {
     "data": {
      "text/plain": [
       "LinearRegression()"
      ]
     },
     "execution_count": 16,
     "metadata": {},
     "output_type": "execute_result"
    }
   ],
   "source": [
    "model.fit(X_train, y_train)\n"
   ]
  },
  {
   "cell_type": "code",
   "execution_count": 19,
   "id": "5098522a",
   "metadata": {},
   "outputs": [
    {
     "data": {
      "text/plain": [
       "array([15.64343813, 19.58078283, 11.42717781, 16.90494334,  9.17645232,\n",
       "        7.01921001, 20.24548588, 17.27288092,  9.81362002, 19.15221858,\n",
       "       12.36281849, 13.90086335, 13.74679921, 21.16322282, 18.31876004,\n",
       "        9.96472602, 15.56312703,  7.73452007,  7.57314037, 20.32745421,\n",
       "        7.79414911, 18.16308067, 24.57041484, 22.71055089,  8.01558318,\n",
       "       12.65730219, 21.43661308,  8.04499619, 12.43159447, 12.40259255,\n",
       "       10.70029092, 19.16776811, 10.10150532,  6.69083331, 17.24889776,\n",
       "        7.79224406,  9.25952001,  8.31516806, 10.51963092, 10.67086792,\n",
       "       12.88094679,  9.79344981, 10.20060813,  8.013982  , 11.54267429,\n",
       "       10.07800983,  8.98583386, 16.21285502, 13.20750313, 20.70094692,\n",
       "       12.42670309, 13.96572233, 17.55475937, 11.15936616, 12.58108647,\n",
       "        5.54230087, 23.22486082, 12.58536565, 18.76366836, 15.15376302,\n",
       "       15.15931391, 23.91773675,  6.78191588, 19.84529505, 13.86858162,\n",
       "       21.07676645])"
      ]
     },
     "execution_count": 19,
     "metadata": {},
     "output_type": "execute_result"
    }
   ],
   "source": [
    "test_pred=model.predict(X_test)\n",
    "test_pred"
   ]
  },
  {
   "cell_type": "code",
   "execution_count": 20,
   "id": "3a8291d5",
   "metadata": {},
   "outputs": [],
   "source": [
    "from sklearn.metrics import mean_squared_error,mean_absolute_error"
   ]
  },
  {
   "cell_type": "code",
   "execution_count": 21,
   "id": "058a228c",
   "metadata": {},
   "outputs": [
    {
     "data": {
      "text/plain": [
       "1.236918849425931"
      ]
     },
     "execution_count": 21,
     "metadata": {},
     "output_type": "execute_result"
    }
   ],
   "source": [
    "mae=mean_absolute_error(y_test,test_pred)\n",
    "mae"
   ]
  },
  {
   "cell_type": "code",
   "execution_count": 22,
   "id": "6e5ff195",
   "metadata": {},
   "outputs": [
    {
     "data": {
      "text/plain": [
       "2.348375242713827"
      ]
     },
     "execution_count": 22,
     "metadata": {},
     "output_type": "execute_result"
    }
   ],
   "source": [
    "mse=mean_squared_error(y_test,test_pred)\n",
    "mse"
   ]
  },
  {
   "cell_type": "code",
   "execution_count": 24,
   "id": "fb4d7171",
   "metadata": {},
   "outputs": [
    {
     "data": {
      "text/plain": [
       "1.532440942651242"
      ]
     },
     "execution_count": 24,
     "metadata": {},
     "output_type": "execute_result"
    }
   ],
   "source": [
    "rmse=np.sqrt(mse)\n",
    "rmse\n"
   ]
  },
  {
   "cell_type": "markdown",
   "id": "96385a13",
   "metadata": {},
   "source": []
  },
  {
   "cell_type": "code",
   "execution_count": 25,
   "id": "d40bce39",
   "metadata": {},
   "outputs": [
    {
     "data": {
      "text/plain": [
       "37    -0.943438\n",
       "109    0.219217\n",
       "31     0.472822\n",
       "89    -0.204943\n",
       "66     0.323548\n",
       "         ...   \n",
       "183    2.282263\n",
       "127    2.018084\n",
       "53     1.354705\n",
       "100   -2.168582\n",
       "93     1.123234\n",
       "Name: sales, Length: 66, dtype: float64"
      ]
     },
     "execution_count": 25,
     "metadata": {},
     "output_type": "execute_result"
    }
   ],
   "source": [
    "\n",
    "test_residuals=y_test-test_pred\n",
    "test_residuals"
   ]
  },
  {
   "cell_type": "code",
   "execution_count": 27,
   "id": "37f99289",
   "metadata": {},
   "outputs": [
    {
     "data": {
      "text/plain": [
       "<matplotlib.lines.Line2D at 0x1daf02a4f60>"
      ]
     },
     "execution_count": 27,
     "metadata": {},
     "output_type": "execute_result"
    },
    {
     "data": {
      "image/png": "[encoded data removed]",
      "text/plain": [
       "<Figure size 432x288 with 1 Axes>"
      ]
     },
     "metadata": {
      "needs_background": "light"
     },
     "output_type": "display_data"
    }
   ],
   "source": [
    "sns.scatterplot(x=y_test,y=test_residuals)\n",
    "plt.xlabel(\"y_test\")\n",
    "plt.ylabel(\"test_resdiuals\")\n",
    "plt.axhline(y=0,color=\"green\",ls=\"--\")"
   ]
  },
  {
   "cell_type": "code",
   "execution_count": 28,
   "id": "b2214808",
   "metadata": {},
   "outputs": [
    {
     "data": {
      "text/plain": [
       "<seaborn.axisgrid.FacetGrid at 0x1daf0234160>"
      ]
     },
     "execution_count": 28,
     "metadata": {},
     "output_type": "execute_result"
    },
    {
     "data": {
      "image/png": "[encoded data removed]",
      "text/plain": [
       "<Figure size 360x360 with 1 Axes>"
      ]
     },
     "metadata": {
      "needs_background": "light"
     },
     "output_type": "display_data"
    }
   ],
   "source": [
    "sns.displot(test_residuals,bins=25,kde=True)"
   ]
  },
  {
   "cell_type": "code",
   "execution_count": 29,
   "id": "0b005df7",
   "metadata": {},
   "outputs": [
    {
     "data": {
      "text/plain": [
       "array([ 0.04458371,  0.18525166, -0.00122463])"
      ]
     },
     "execution_count": 29,
     "metadata": {},
     "output_type": "execute_result"
    }
   ],
   "source": [
    "model.coef_"
   ]
  },
  {
   "cell_type": "code",
   "execution_count": 30,
   "id": "f275bd7c",
   "metadata": {},
   "outputs": [
    {
     "data": {
      "text/plain": [
       "array([20.39404877, 12.42670309, 12.40259255, 17.55125343, 13.20750313,\n",
       "       12.57240555, 11.82860768, 12.19325768,  3.98879262, 12.58108647,\n",
       "        7.20937564, 17.23083292, 10.70029092,  8.96357595, 18.35555068,\n",
       "       20.70094692, 12.88094679, 23.03105625, 10.07800983, 14.18887362,\n",
       "       18.02072684, 14.7177465 ,  6.69083331, 16.49469776,  8.30689414,\n",
       "       15.56312703, 15.00102436, 16.98777651, 19.30227203,  9.2792403 ,\n",
       "       21.46585561, 11.42717781,  7.79224406, 18.76366836,  7.73452007,\n",
       "       16.92717618, 23.22486082, 15.64343813, 10.04236137, 20.32745421,\n",
       "       16.33818392, 17.24889776, 21.43661308, 13.96572233,  9.04456091,\n",
       "       15.15376302,  9.00699972, 21.57848924, 16.21285502,  8.32259699,\n",
       "       12.65730219,  9.46778071, 20.54198256, 19.84529505, 20.24548588,\n",
       "       21.16322282,  8.69790163, 12.82637323, 21.75812867, 18.06489162,\n",
       "        5.94709356, 22.71055089, 16.72441917, 13.26947812, 16.95587238,\n",
       "        8.01558318,  9.17645232, 12.10173761, 18.88269153, 20.98255516,\n",
       "       17.71549314, 10.72313815, 10.50208154, 10.00430451, 17.27288092,\n",
       "       11.95704864,  4.71467364, 13.85218848,  8.98583386,  9.78742809,\n",
       "       11.54267429, 14.62308565, 10.29553033, 14.46719644, 20.66061983,\n",
       "       15.15931391, 11.69413244, 15.59680607, 11.78833965, 16.90494334,\n",
       "       10.10150532,  4.73012755, 19.0571199 , 21.07676645, 10.58603414,\n",
       "       16.28725812, 12.6684657 , 15.32443993, 23.90691385, 16.91406999,\n",
       "       13.86858162, 23.03325045, 17.55475937, 14.75925578, 20.18505018,\n",
       "       17.88908609,  6.33355822,  7.27510035,  3.8443655 , 19.58078283,\n",
       "       14.73444265, 21.00460334, 13.90086335, 16.36539531, 15.33154272,\n",
       "       12.98507532, 12.04136954,  6.75384115, 15.56053646,  7.01921001,\n",
       "       14.42541357,  8.013982  , 13.62981991, 15.10034558, 19.34229126,\n",
       "        9.25952001, 10.70964473,  6.78191588, 22.11277282,  8.04499619,\n",
       "       10.57408872, 15.52573967,  8.62834535, 19.16776811, 11.93308572,\n",
       "       14.06738057, 11.57233736, 20.70079288,  9.90758134, 19.59156294,\n",
       "        9.62349365, 18.31876004, 19.15221858,  8.89483209, 10.20060813,\n",
       "        9.81362002, 15.26380076, 23.08340734, 12.36281849,  9.96472602,\n",
       "       18.26190322, 10.10867216, 16.32628403, 18.16308067, 15.48756579,\n",
       "        5.54230087, 15.40058237, 10.10727737, 10.51963092, 12.45550178,\n",
       "       14.22371779, 13.61002775, 14.93884444, 17.31520434, 11.15936616,\n",
       "       14.19845583, 10.95462746, 13.3770311 , 17.12230045, 17.84854793,\n",
       "        7.57314037, 14.36530134,  7.79414911, 12.02507731, 13.74679921,\n",
       "       24.57041484, 19.86190273, 12.20757234, 15.9509368 , 12.43159447,\n",
       "       10.67086792, 13.92591378,  6.74273624, 23.91773675, 18.44203608,\n",
       "       20.68807657,  9.79344981, 17.03195031, 18.53897722,  6.26417286,\n",
       "       12.58536565,  8.57700915,  4.70524204, 18.43029281, 16.47936162,\n",
       "        5.58919781,  8.31516806, 12.82388853, 23.5610082 , 15.14795822])"
      ]
     },
     "execution_count": 30,
     "metadata": {},
     "output_type": "execute_result"
    }
   ],
   "source": [
    "y_hat=model.predict(x)\n",
    "y_hat"
   ]
  },
  {
   "cell_type": "code",
   "execution_count": 31,
   "id": "51fc0dd9",
   "metadata": {},
   "outputs": [
    {
     "data": {
      "text/plain": [
       "Text(0.5, 1.0, 'newspaper spend')"
      ]
     },
     "execution_count": 31,
     "metadata": {},
     "output_type": "execute_result"
    },
    {
     "data": {
      "image/png": "[encoded data removed]",
      "text/plain": [
       "<Figure size 1152x288 with 3 Axes>"
      ]
     },
     "metadata": {
      "needs_background": "light"
     },
     "output_type": "display_data"
    }
   ],
   "source": [
    "fig,axes=plt.subplots(nrows=1,ncols=3,figsize=(16,4))\n",
    "axes[0].plot(df[\"TV\"],df[\"sales\"],\"o\")\n",
    "axes[0].plot(df[\"TV\"],y_hat,\"o\")\n",
    "axes[0].set_ylabel(\"sales\")\n",
    "axes[0].set_title(\"TV spend\")\n",
    "\n",
    "axes[1].plot(df[\"radio\"],df[\"sales\"],\"o\")\n",
    "axes[1].plot(df[\"radio\"],y_hat,\"o\")\n",
    "axes[1].set_ylabel(\"sales\")\n",
    "axes[1].set_title(\"radio spend\")\n",
    "\n",
    "axes[2].plot(df[\"newspaper\"],df[\"sales\"],\"o\")\n",
    "axes[2].plot(df[\"newspaper\"],y_hat,\"o\")\n",
    "axes[2].set_ylabel(\"sales\")\n",
    "axes[2].set_title(\"newspaper spend\")"
   ]
  },
  {
   "cell_type": "code",
   "execution_count": null,
   "id": "6cd58887",
   "metadata": {},
   "outputs": [],
   "source": []
  }
 ],
 "metadata": {
  "kernelspec": {
   "display_name": "Python 3 (ipykernel)",
   "language": "python",
   "name": "python3"
  },
  "language_info": {
   "codemirror_mode": {
    "name": "ipython",
    "version": 3
   },
   "file_extension": ".py",
   "mimetype": "text/x-python",
   "name": "python",
   "nbconvert_exporter": "python",
   "pygments_lexer": "ipython3",
   "version": "3.7.0"
  }
 },
 "nbformat": 4,
 "nbformat_minor": 5
}
